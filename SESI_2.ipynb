{
  "nbformat": 4,
  "nbformat_minor": 0,
  "metadata": {
    "colab": {
      "provenance": [],
      "authorship_tag": "ABX9TyN+QxAujGiWWaWVK9/Zb7HV",
      "include_colab_link": true
    },
    "kernelspec": {
      "name": "python3",
      "display_name": "Python 3"
    },
    "language_info": {
      "name": "python"
    }
  },
  "cells": [
    {
      "cell_type": "markdown",
      "metadata": {
        "id": "view-in-github",
        "colab_type": "text"
      },
      "source": [
        "<a href=\"https://colab.research.google.com/github/kadekadhi120/Scientific-Computing/blob/main/SESI_2.ipynb\" target=\"_parent\"><img src=\"https://colab.research.google.com/assets/colab-badge.svg\" alt=\"Open In Colab\"/></a>"
      ]
    },
    {
      "cell_type": "code",
      "execution_count": null,
      "metadata": {
        "colab": {
          "base_uri": "https://localhost:8080/"
        },
        "id": "VNIATky9AXJv",
        "outputId": "c223bcba-a39f-403d-f939-e45c31632ffe"
      },
      "outputs": [
        {
          "output_type": "stream",
          "name": "stdout",
          "text": [
            "Matrix is diagonally dominant\n"
          ]
        }
      ],
      "source": [
        "import numpy as np\n",
        "a = [[8, 3, -3], [-2, -8, 5], [3, 5, 19]]\n",
        "\n",
        "#Find diagonal coefficients\n",
        "diag = np.diag(np.abs(a))\n",
        "\n",
        "#Find row su without diagonal\n",
        "off_diag = np.sum(np.abs(a), axis=1) - diag\n",
        "\n",
        "if np.all(diag > off_diag):\n",
        "  print('Matrix is diagonally dominant')\n",
        "else:\n",
        "  print('Not diagonally dominant')"
      ]
    },
    {
      "cell_type": "code",
      "source": [
        "x1 = 0\n",
        "x2 = 0\n",
        "x3 = 0\n",
        "epsilon = 0.01\n",
        "converged = False\n",
        "\n",
        "x_old = np.array([x1, x2, x3])"
      ],
      "metadata": {
        "id": "OIU8S0rIDKvS"
      },
      "execution_count": null,
      "outputs": []
    },
    {
      "cell_type": "code",
      "source": [
        "print('Iteration result')\n",
        "print(' k,  x1, x2, x3')\n",
        "for k in range(1, 50):\n",
        "  x1 = (14-3*x2+3*x3)/8\n",
        "  x2 = (5+2*x1-5*x3)/(-8)\n",
        "  x3 = (-8-3*x1-5*x2)/(10)\n",
        "  x = np.array([x1, x2, x3])\n",
        "  #check if it is smaller than threshold\n",
        "  dx = np.sqrt(np.dot(x-x_old, x-x_old))\n",
        "\n",
        "  print('%d, %.4f, %.4f, %.4f'%(k, x1, x2, x3))\n",
        "  if dx < epsilon:\n",
        "    converged = True\n",
        "    print('Converged!')\n",
        "    break\n",
        "    \n",
        "  #assign the latest x value to the old value\n",
        "  x_old = x\n",
        "\n",
        "if not converged:\n",
        "  print('Not converge, increase the # of iterations')"
      ],
      "metadata": {
        "colab": {
          "base_uri": "https://localhost:8080/"
        },
        "id": "teKtStAODeKz",
        "outputId": "f1b30dc8-9a21-4774-c953-15b9b3fd3fdb"
      },
      "execution_count": null,
      "outputs": [
        {
          "output_type": "stream",
          "name": "stdout",
          "text": [
            "Iteration result\n",
            " k,  x1, x2, x3\n",
            "1, 2.0878, -1.5540, -0.6493\n",
            "Converged!\n"
          ]
        }
      ]
    }
  ]
}