{
  "nbformat": 4,
  "nbformat_minor": 0,
  "metadata": {
    "colab": {
      "provenance": [],
      "authorship_tag": "ABX9TyOE7ufmKw9tURDQRqcUUdqj",
      "include_colab_link": true
    },
    "kernelspec": {
      "name": "python3",
      "display_name": "Python 3"
    },
    "language_info": {
      "name": "python"
    }
  },
  "cells": [
    {
      "cell_type": "markdown",
      "metadata": {
        "id": "view-in-github",
        "colab_type": "text"
      },
      "source": [
        "<a href=\"https://colab.research.google.com/github/kadekadhi120/Scientific-Computing/blob/main/Sesi_5(4).ipynb\" target=\"_parent\"><img src=\"https://colab.research.google.com/assets/colab-badge.svg\" alt=\"Open In Colab\"/></a>"
      ]
    },
    {
      "cell_type": "code",
      "execution_count": null,
      "metadata": {
        "id": "yuDxYhp7mkSG"
      },
      "outputs": [],
      "source": [
        "import math\n",
        "\n",
        "def simpsons_rule_integration(f, a, b, n):\n",
        "    h = (b - a) / n\n",
        "    \n",
        "    sum_terms = f(a) + f(b)\n",
        "    for i in range(1, n):\n",
        "        x = a + i * h\n",
        "        if i % 2 == 0:\n",
        "            sum_terms += 2 * f(x)\n",
        "        else:\n",
        "            sum_terms += 4 * f(x)\n",
        "    \n",
        "    return (h / 3) * sum_terms\n",
        "\n",
        "# Fungsi yang akan diintegrasikan\n",
        "def f(x):\n",
        "    return math.sin(x)\n",
        "\n",
        "a = 0  # Batas bawah\n",
        "b = math.pi  # Batas atas\n",
        "n = 10  # Jumlah subinterval, (n+1) grid points\n",
        "\n",
        "# Menggunakan Simpson's Rule untuk menghitung integral\n",
        "approximation = simpsons_rule_integration(f, a, b, n)\n",
        "\n",
        "# Hasil aproksimasi\n",
        "print(\"Approximation:\", approximation)\n",
        "\n",
        "# Nilai eksak\n",
        "exact_value = 2\n",
        "\n",
        "# Perbandingan dengan nilai eksak\n",
        "error = abs(approximation - exact_value)\n",
        "print(\"Error:\", error)"
      ]
    }
  ]
}